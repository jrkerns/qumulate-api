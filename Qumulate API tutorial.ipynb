{
 "cells": [
  {
   "cell_type": "markdown",
   "metadata": {},
   "source": [
    "## Qumulate Tutorial\n",
    "\n",
    "In the following notebook we will upload data from a local excel sheet into Qumulate using Python. This tutorial can be used as a basis for uploading any Qumulate tests from a local data source. E.g. a database or file. As a TL;DR, the steps will be summarized here as a refresher if reading this for the second time:\n",
    "\n",
    "1. Get the API key and API secret key\n",
    "2. Get the test schema boilerplate from the Qumulate app for the test(s) to be uploaded\n",
    "3. Change the values of the boilerplate to the real values\n",
    "4. Create a security signature of the message (data) to be sent.\n",
    "5. Actually send (POST) the message and signature to Qumulate. \n",
    "\n",
    "This notebook can be copied and used directly if the API_KEY, API_SECRET_KEY, and QLT_URL are appropriately set. \n",
    "\n"
   ]
  },
  {
   "cell_type": "markdown",
   "metadata": {},
   "source": [
    "#### Setup\n",
    "\n",
    "First we import the libraries needed."
   ]
  },
  {
   "cell_type": "code",
   "execution_count": null,
   "metadata": {},
   "outputs": [],
   "source": [
    "!pip install requests"
   ]
  },
  {
   "cell_type": "code",
   "execution_count": 1,
   "metadata": {},
   "outputs": [],
   "source": [
    "import base64\n",
    "import hashlib\n",
    "import hmac\n",
    "import json\n",
    "\n",
    "import requests"
   ]
  },
  {
   "cell_type": "markdown",
   "metadata": {},
   "source": [
    "Second, we'll need the API keys so our request is authenticated. You can get these from the Qumulate app under Configuration -> API accounts. Select the account to use and copy the keys:\n",
    "\n",
    "![title](qlt_api_key.png)\n",
    "\n",
    "The URL to use will always be `https://qumulate.varian.com/public` for production. For this tutorial we're using the demo instance."
   ]
  },
  {
   "cell_type": "code",
   "execution_count": 2,
   "metadata": {
    "pycharm": {
     "name": "#%%\n"
    }
   },
   "outputs": [],
   "source": [
    "API_KEY = \"copy your public key here\"\n",
    "API_SECRET_KEY = \"copy your secret key here\"\n",
    "QLT_URL = 'https://demo.qumulate.varian.com/public'"
   ]
  },
  {
   "cell_type": "markdown",
   "metadata": {
    "pycharm": {
     "name": "#%%\n"
    }
   },
   "source": [
    "### Getting the schema\n",
    "\n",
    "We'll now need to grab the data schema that Qumulate is expecting to recieve. For each test, boilerplate is provided for easy copy and paste. To get the boilerplate for a given test, go to Configuration -> QUIP Documentation and select the test to get a file download of the schema. For our example we'll use Output consistency in JSON format. \n",
    "\n",
    "![title](qlt_json_schema.png)\n",
    "\n",
    "Copy and pasting the file here shows the following:\n"
   ]
  },
  {
   "cell_type": "code",
   "execution_count": 3,
   "metadata": {},
   "outputs": [
    {
     "data": {
      "text/plain": [
       "{'machines': [{'serial-number': 'H191234',\n",
       "   'configuration': {'machine-configuration-values': [{'field-code': 'ENERGY',\n",
       "      'unit-code': 'MEGA_ELECTRONVOLT',\n",
       "      'value': '20'}]},\n",
       "   'tests': [{'device': {'type': 'UNKNOWN', 'serial-number': '123456789'},\n",
       "     'performed-on-date': '24 Jul 2020 15:12:51 +0000',\n",
       "     'data-values': [{'test-raw-data-value-code': 'DOSE',\n",
       "       'unit': 'CENTIGRAY',\n",
       "       'value': '1.5'}],\n",
       "     'custom-values': [{'key': 'test-performed-by', 'value': 'John Doe'}],\n",
       "     'temperature': {'units': {'name': 'CELSIUS'}, 'value': 21.0},\n",
       "     'atmospheric-pressure': {'units': {'name': 'MILLIMETERS_OF_MERCURY'},\n",
       "      'value': 760.0}}]}]}"
      ]
     },
     "execution_count": 3,
     "metadata": {},
     "output_type": "execute_result"
    }
   ],
   "source": [
    "{\n",
    "  \"machines\": [\n",
    "    {\n",
    "      \"serial-number\": \"H191234\",\n",
    "      \"configuration\": {\n",
    "        \"machine-configuration-values\": [\n",
    "          {\n",
    "            \"field-code\": \"ENERGY\",\n",
    "            \"unit-code\": \"MEGA_ELECTRONVOLT\",\n",
    "            \"value\": \"20\"\n",
    "          }\n",
    "        ]\n",
    "      },\n",
    "      \"tests\": [\n",
    "        {\n",
    "          \"device\": {\n",
    "            \"type\": \"UNKNOWN\",\n",
    "            \"serial-number\": \"123456789\"\n",
    "          },\n",
    "          \"performed-on-date\": \"24 Jul 2020 15:12:51 +0000\",\n",
    "          \"data-values\": [\n",
    "            {\n",
    "              \"test-raw-data-value-code\": \"DOSE\",\n",
    "              \"unit\": \"CENTIGRAY\",\n",
    "              \"value\": \"1.5\"\n",
    "            }\n",
    "          ],\n",
    "          \"custom-values\": [\n",
    "            {\n",
    "              \"key\": \"test-performed-by\",\n",
    "              \"value\": \"John Doe\"\n",
    "            }\n",
    "          ],\n",
    "          \"temperature\": {\n",
    "            \"units\": {\n",
    "              \"name\": \"CELSIUS\"\n",
    "            },\n",
    "            \"value\": 21.0\n",
    "          },\n",
    "          \"atmospheric-pressure\": {\n",
    "            \"units\": {\n",
    "              \"name\": \"MILLIMETERS_OF_MERCURY\"\n",
    "            },\n",
    "            \"value\": 760.0\n",
    "          }\n",
    "        }\n",
    "      ]\n",
    "    }\n",
    "  ]\n",
    "}"
   ]
  },
  {
   "cell_type": "markdown",
   "metadata": {},
   "source": [
    "The schema shows several key items including the machine serial number `H191234`, the `machine-configuration-values` that contains the energy `20` and modality `MEGA_ELECTRONVOLT`. In the `tests` section a `device` contains information if the data was acquired with a device such as the DailyQA3 or Doselab. The `performed-on-date` and `data-values` contain the critical information that will direct the information to the right Qumulate QA session and tests. \n",
    "\n",
    "### Creating a custom message\n",
    "\n",
    "Let's edit this file to remove some superfluous keys (`temperature`, `atmospheric-pressure`) as well as wrap this with a function that can dynamically populate the `performed-on-date` and `value` of the `data-values` section. "
   ]
  },
  {
   "cell_type": "code",
   "execution_count": 4,
   "metadata": {},
   "outputs": [],
   "source": [
    "def create_json(perform_date, output_value, energy, serial_number):\n",
    "    \"\"\"\n",
    "    Parameters\n",
    "    ----------\n",
    "    perform_date : string, date representation\n",
    "    output_value : float, numerical representation of the dose in cGy.\n",
    "    energy : int, energy in MV\n",
    "    serial_number : string, full serial number of the linac\n",
    "    \"\"\"\n",
    "    data = dict(\n",
    "        {\n",
    "            \"machines\": [\n",
    "                {\n",
    "                    \"serial-number\": str(serial_number),\n",
    "                    \"configuration\": {\n",
    "                        \"machine-configuration-values\": [\n",
    "                            {\n",
    "                                \"field-code\": \"ENERGY\",\n",
    "                                \"unit-code\": \"MEGA_ELECTRONVOLT\",\n",
    "                                \"alt\": \"MV\",\n",
    "                                \"value\": str(energy)\n",
    "                            }\n",
    "                        ]\n",
    "                    },\n",
    "                    \"tests\": [\n",
    "                        {\n",
    "                            \"device\": {\n",
    "                                \"type\": \"UNKNOWN\",\n",
    "                                \"serial-number\": \"H197771\"\n",
    "                              },\n",
    "                            \"performed-on-date\": str(perform_date),\n",
    "                            \"data-values\": [\n",
    "                                {\n",
    "                                    \"test-raw-data-value-code\": \"DOSE\",\n",
    "                                    \"unit\": \"CENTIGRAY\",\n",
    "                                    \"value\": str(output_value)\n",
    "                                }\n",
    "                            ]\n",
    "                        }\n",
    "                    ]\n",
    "                }\n",
    "            ]\n",
    "        }\n",
    "    )\n",
    "    data_as_str = json.dumps(data)\n",
    "    return data_as_str"
   ]
  },
  {
   "cell_type": "markdown",
   "metadata": {},
   "source": [
    "In the above code, we created a function that we can reuse to populate the important fields anytime we want to create a JSON message for Qumulate. Let's go ahead and create a message:"
   ]
  },
  {
   "cell_type": "code",
   "execution_count": 5,
   "metadata": {},
   "outputs": [
    {
     "data": {
      "text/plain": [
       "'{\"machines\": [{\"serial-number\": \"H197771\", \"configuration\": {\"machine-configuration-values\": [{\"field-code\": \"ENERGY\", \"unit-code\": \"MEGA_ELECTRONVOLT\", \"alt\": \"MV\", \"value\": \"6\"}]}, \"tests\": [{\"device\": {\"type\": \"UNKNOWN\", \"serial-number\": \"H197771\"}, \"performed-on-date\": \"24 Jul 2020 15:12:53 +0000\", \"data-values\": [{\"test-raw-data-value-code\": \"DOSE\", \"unit\": \"CENTIGRAY\", \"value\": \"100.5\"}]}]}]}'"
      ]
     },
     "execution_count": 5,
     "metadata": {},
     "output_type": "execute_result"
    }
   ],
   "source": [
    "perform_date = \"24 Jul 2020 15:12:53 +0000\"\n",
    "output_value = 100.5\n",
    "energy = 6\n",
    "serial_number = \"H197771\"\n",
    "data = create_json(perform_date, output_value, energy, serial_number)\n",
    "data"
   ]
  },
  {
   "cell_type": "markdown",
   "metadata": {},
   "source": [
    "### Formatting the message\n",
    "\n",
    "We have the data we want to send to Qumulate, however, we must create a data \"signature\" so that the data is ensured to be secure during transit from our local script to the Qumulate cloud. Specifically, we use hashed message authentication code ([HMAC](https://en.wikipedia.org/wiki/HMAC)) with the [SHA256](https://decryptionary.com/dictionary/secure-hash-algorithm-256/) hashing algorithm. The hashing algorithm takes our API secret key as in input parameter. "
   ]
  },
  {
   "cell_type": "code",
   "execution_count": 6,
   "metadata": {},
   "outputs": [
    {
     "data": {
      "text/plain": [
       "'26f3ae40100141402331b148c3e679cb53e1144a81242b0a6805d7d5c7f05fd1'"
      ]
     },
     "execution_count": 6,
     "metadata": {},
     "output_type": "execute_result"
    }
   ],
   "source": [
    "hmac_msg = hmac.new(key=API_SECRET_KEY.encode('utf-8'), msg=data.encode('utf-8'), digestmod=hashlib.sha256)\n",
    "hmac_msg.hexdigest()"
   ]
  },
  {
   "cell_type": "markdown",
   "metadata": {},
   "source": [
    "We now need to convert this HMAC message to [base64](https://en.wikipedia.org/wiki/Base64) format, which is the format Qumulate will accept:"
   ]
  },
  {
   "cell_type": "code",
   "execution_count": 7,
   "metadata": {},
   "outputs": [
    {
     "data": {
      "text/plain": [
       "b'JvOuQBABQUAjMbFIw+Z5y1PhFEqBJCsKaAXX1cfwX9E='"
      ]
     },
     "execution_count": 7,
     "metadata": {},
     "output_type": "execute_result"
    }
   ],
   "source": [
    "b64_hash = base64.b64encode(hmac_msg.digest())\n",
    "b64_hash"
   ]
  },
  {
   "cell_type": "markdown",
   "metadata": {},
   "source": [
    "### POST the message to Qumulate\n",
    "\n",
    "We're now ready to send this message to Qumulate. We format an HTTP request which needs to know the URL destination, the payload (the message) and the API Key:"
   ]
  },
  {
   "cell_type": "code",
   "execution_count": 8,
   "metadata": {},
   "outputs": [],
   "source": [
    "resp = requests.post(url=QLT_URL, data=data,\n",
    "                     headers={'content-type': 'application/json',\n",
    "                              'api_key': API_KEY,\n",
    "                              'api_client_id': 'SI_V1',\n",
    "                              'data_signature': b64_hash.decode('utf-8')})"
   ]
  },
  {
   "cell_type": "markdown",
   "metadata": {},
   "source": [
    "In the above code we pushed our request via a POST call. We will get a response `resp` back which will give us the status of our request. Our request could be successful or fail. This response is the message Qumulate sends back after receiving the message. Let's see what our response says. We print it in JSON format for easier reading:"
   ]
  },
  {
   "cell_type": "code",
   "execution_count": 9,
   "metadata": {},
   "outputs": [
    {
     "data": {
      "text/plain": [
       "{'success': False,\n",
       " 'request-validation-status': 'FAILED_BEFORE_VALIDATION',\n",
       " 'api-response': 'API_LOOKUP_FAILED',\n",
       " 'stats': {'processed-tests': 0,\n",
       "  'new-tests': 0,\n",
       "  'duplicate-tests': 0,\n",
       "  'valid-tests': 0,\n",
       "  'received-files': 0,\n",
       "  'validated-files': 0},\n",
       " 'status-message': 'API Lookup Failed : Maybe the API key was incorrect?'}"
      ]
     },
     "execution_count": 9,
     "metadata": {},
     "output_type": "execute_result"
    }
   ],
   "source": [
    "resp.json()"
   ]
  },
  {
   "cell_type": "markdown",
   "metadata": {},
   "source": [
    "Our message failed to upload. This is because the API key was left at the default `API_KEY = \"copy your public key here\"` from the beginning of this tutorial. If we plug in a valid value for the key and secret key the response will look more like the following:\n",
    "\n",
    "```\n",
    "{'success': True,\n",
    " 'request-validation-status': 'VALIDATED',\n",
    " 'api-response': 'SUCCESS_AWAITING_MAPPING',\n",
    " 'stats': {'processed-tests': 0,\n",
    "  'new-tests': 0,\n",
    "  'duplicate-tests': 0,\n",
    "  'valid-tests': 0,\n",
    "  'received-files': 0,\n",
    "  'validated-files': 0},\n",
    " 'status-message': 'Waiting for user to map the alternate-mapping values to their machine.'}\n",
    " ```\n",
    " \n",
    " This message indicates that we successfully sent the message. However, Qumulate was not able to match the serial number in the message (which was a hypothetical `H197771`) with a machine in the Qumulate organization. I.e. there was no `H197771` machine in the clinic's Qumulate machine list. N.B. Qumulate will not match machines outside the clinic's organization, meaning you can't accidentally send or receive data from another institution, even if the serial number was set to the same value. This is done through the API key, which only looks at the machines associated with the API key. \n",
    " \n",
    "Even though the serial number didn't match, Qumulate provides an ability to match serial numbers to real machines, so we're still okay. \n",
    "\n",
    "\n",
    "### That's it from the local side\n",
    "\n",
    "At this point we've finished sending the message. We can use the schema from other tests to send other tests, but the idea is the same. Using the above example, we still have some cleanup to do in Qumulate to get the sent data to the right machine but is handled from the Qumulate app. For ease of use, a function is given below that generates the signature and sends to Qumulate. This can be copy and pasted:"
   ]
  },
  {
   "cell_type": "code",
   "execution_count": 10,
   "metadata": {},
   "outputs": [],
   "source": [
    "def send_message(data, API_KEY, API_SECRET_KEY, QLT_URL):\n",
    "    hmac_hash = hmac.new(key=API_SECRET_KEY.encode('utf-8'), msg=data.encode('utf-8'), digestmod=hashlib.sha256)\n",
    "    b64_hash = base64.b64encode(hmac_hash.digest())\n",
    "    resp = requests.post(url=QLT_URL, data=data,\n",
    "                         headers={'content-type': 'application/json',\n",
    "                                  'api_key': API_KEY,\n",
    "                                  'api_client_id': 'SI_V1',\n",
    "                                  'data_signature': b64_hash.decode('utf-8')})\n",
    "    return json.dumps(resp.json())"
   ]
  },
  {
   "cell_type": "markdown",
   "metadata": {},
   "source": [
    "### Match the machine in Qumulate\n",
    "\n",
    "This step is not needed if the serial number of the message actually matched a machine defined for the clinic in Qumulate. For this example we'll show how to do it. \n",
    "\n",
    "Going to Qumulate we see the message sent above by going to Configuration -> API Accounts and viewing the API Request History:\n",
    "\n",
    "![title](qlt_request_history.png)\n",
    "\n",
    "We can see our request is in triage, waiting to match to a real Qumulate machine. To do so, go to the next tab, Machine Mapping:\n",
    "\n",
    "![title](qlt_machine_mapping.png)\n",
    "\n",
    "Click on `Link` to match the number to a real machine:\n",
    "\n",
    "![title](qlt_machine_mapping_selection.png)\n",
    "\n",
    "After matching, Qumulate will ask you if you want to process the requests that are waiting, i.e. the request we just sent. We want to do that so we'll say Yes. If you choose to say No you can resubmit the requests later:\n",
    "\n",
    "![title](qlt_resubmit.png)\n",
    "\n",
    "Once resubmitted, the values will then get sent to the template that contains the Output Consistency test. We can see the test result in the QA session for the matched machine and assignment:\n",
    "\n",
    "![title](qlt_session_data.png)\n",
    "\n",
    "There it is! A test data point sent from start to finish. The process of matching need only be done once. After that data will automatically map."
   ]
  },
  {
   "cell_type": "markdown",
   "metadata": {},
   "source": [
    "## Excel upload example\n",
    "\n",
    "The above example can be extended to send Excel data up to Qumulate. The below example will grab cells from a local excel sheet and use those values as input parameters to the functions defined above. The only part that's new is grabbing the cells from the sheet. After that, all else is the same.\n",
    "\n",
    "### Getting the data from Excel\n",
    "\n",
    "First, we'll need to import a library that reads Excel files:"
   ]
  },
  {
   "cell_type": "code",
   "execution_count": 11,
   "metadata": {},
   "outputs": [
    {
     "name": "stdout",
     "output_type": "stream",
     "text": [
      "Requirement already satisfied: openpyxl in c:\\users\\jkern\\miniconda3\\envs\\qumulate-api\\lib\\site-packages (3.0.3)\n",
      "Requirement already satisfied: jdcal in c:\\users\\jkern\\miniconda3\\envs\\qumulate-api\\lib\\site-packages (from openpyxl) (1.4.1)\n",
      "Requirement already satisfied: et-xmlfile in c:\\users\\jkern\\miniconda3\\envs\\qumulate-api\\lib\\site-packages (from openpyxl) (1.0.1)\n"
     ]
    }
   ],
   "source": [
    "!pip install openpyxl"
   ]
  },
  {
   "cell_type": "code",
   "execution_count": 12,
   "metadata": {},
   "outputs": [],
   "source": [
    "from openpyxl import load_workbook"
   ]
  },
  {
   "cell_type": "code",
   "execution_count": 13,
   "metadata": {},
   "outputs": [],
   "source": [
    "wb = load_workbook('output-example.xlsx', data_only=True)  # this opens the file. data_only means grab the values from formula cells, not the forumlas themselves\n",
    "ws = wb.active  # this grabs the \"active\" worksheet. This file only has one, but you can select a different one if your file has multiple sheets"
   ]
  },
  {
   "cell_type": "markdown",
   "metadata": {},
   "source": [
    "We now have a reference to the workbook (`wb`) and active worksheet (`ws`). We can now grab individual cells:"
   ]
  },
  {
   "cell_type": "code",
   "execution_count": 14,
   "metadata": {},
   "outputs": [
    {
     "data": {
      "text/plain": [
       "'H197771'"
      ]
     },
     "execution_count": 14,
     "metadata": {},
     "output_type": "execute_result"
    }
   ],
   "source": [
    "ws['H9'].value"
   ]
  },
  {
   "cell_type": "markdown",
   "metadata": {},
   "source": [
    "So then let's grab the three values from the spreadsheet we want and then use them in our functions defined above:"
   ]
  },
  {
   "cell_type": "code",
   "execution_count": 15,
   "metadata": {},
   "outputs": [],
   "source": [
    "serial_number = ws['H9'].value\n",
    "energy = ws['H10'].value\n",
    "output_value = ws['H15'].value"
   ]
  },
  {
   "cell_type": "markdown",
   "metadata": {},
   "source": [
    "### Date handling\n",
    "\n",
    "We didn't grab a time from our Excel sheet, but we can if we want to. For this example we will simply use \"now\" as the perform time/date. One important caveat is that Qumulate is time-zone aware. Thus, we also must be time-zone aware when uploading data. E.g. uploading data at \"06:00\" doesn't mean much because Qumulate doesn't know which time zone you're in. Below we grab the current time and convert it to a time-zone aware format:"
   ]
  },
  {
   "cell_type": "code",
   "execution_count": 20,
   "metadata": {},
   "outputs": [
    {
     "name": "stdout",
     "output_type": "stream",
     "text": [
      "Requirement already satisfied: pytz in c:\\users\\jkern\\miniconda3\\envs\\qumulate-api\\lib\\site-packages (2020.1)\n"
     ]
    }
   ],
   "source": [
    "!pip install pytz"
   ]
  },
  {
   "cell_type": "code",
   "execution_count": 16,
   "metadata": {},
   "outputs": [
    {
     "name": "stdout",
     "output_type": "stream",
     "text": [
      "The current time without timezone awareness: 2020-07-24 12:58:08.631819\n",
      "The current time with timezone awareness: 2020-07-24 12:58:08.631819-05:00\n"
     ]
    }
   ],
   "source": [
    "from datetime import datetime\n",
    "from pytz import timezone\n",
    "\n",
    "central = timezone(\"US/Central\")  # pick whatever zone you're in\n",
    "\n",
    "now = datetime.now()  \n",
    "\n",
    "loc_now = central.localize(now)  # wrap the current time with the timezone\n",
    "\n",
    " # current date and time\n",
    "print(\"The current time without timezone awareness:\", now)\n",
    "print(\"The current time with timezone awareness:\", loc_now)"
   ]
  },
  {
   "cell_type": "markdown",
   "metadata": {},
   "source": [
    "Note the `-0500` at the end of the time-zone aware datetime. \n",
    "\n",
    "Now, we must convert the timestamp to a string in the format Qumulate expects. See [here](https://docs.python.org/3/library/datetime.html#strftime-and-strptime-behavior) for more info on formatting.\n",
    "\n"
   ]
  },
  {
   "cell_type": "code",
   "execution_count": 17,
   "metadata": {},
   "outputs": [
    {
     "name": "stdout",
     "output_type": "stream",
     "text": [
      "24 Jul 2020 12:58:08 -0500\n"
     ]
    }
   ],
   "source": [
    "fmt = '%d %b %Y %H:%M:%S %z'\n",
    "localized_time_as_str = loc_now.strftime(fmt)\n",
    "print(localized_time_as_str)"
   ]
  },
  {
   "cell_type": "markdown",
   "metadata": {},
   "source": [
    "This string is now in the format Qumulate expects. Note the timezone shift at the end. "
   ]
  },
  {
   "cell_type": "markdown",
   "metadata": {},
   "source": [
    "### Uploading data\n",
    "\n",
    "Now that we have the data from Excel and a proper datetime stamp we are ready to upload:"
   ]
  },
  {
   "cell_type": "code",
   "execution_count": 18,
   "metadata": {},
   "outputs": [
    {
     "data": {
      "text/plain": [
       "'{\"machines\": [{\"serial-number\": \"H197771\", \"configuration\": {\"machine-configuration-values\": [{\"field-code\": \"ENERGY\", \"unit-code\": \"MEGA_ELECTRONVOLT\", \"alt\": \"MV\", \"value\": \"6\"}]}, \"tests\": [{\"device\": {\"type\": \"UNKNOWN\", \"serial-number\": \"H197771\"}, \"performed-on-date\": \"24 Jul 2020 12:58:08 -0500\", \"data-values\": [{\"test-raw-data-value-code\": \"DOSE\", \"unit\": \"CENTIGRAY\", \"value\": \"100.75315249999998\"}]}]}]}'"
      ]
     },
     "execution_count": 18,
     "metadata": {},
     "output_type": "execute_result"
    }
   ],
   "source": [
    "# copy of the above data for clarity\n",
    "serial_number = ws['H9'].value\n",
    "energy = ws['H10'].value\n",
    "output_value = ws['H15'].value\n",
    "# set the date to the stamp we \n",
    "perform_date = localized_time_as_str\n",
    "\n",
    "data = create_json(perform_date, output_value, energy, serial_number)\n",
    "data"
   ]
  },
  {
   "cell_type": "code",
   "execution_count": 19,
   "metadata": {},
   "outputs": [
    {
     "data": {
      "text/plain": [
       "'{\"success\": false, \"request-validation-status\": \"FAILED_BEFORE_VALIDATION\", \"api-response\": \"API_LOOKUP_FAILED\", \"stats\": {\"processed-tests\": 0, \"new-tests\": 0, \"duplicate-tests\": 0, \"valid-tests\": 0, \"received-files\": 0, \"validated-files\": 0}, \"status-message\": \"API Lookup Failed : Maybe the API key was incorrect?\"}'"
      ]
     },
     "execution_count": 19,
     "metadata": {},
     "output_type": "execute_result"
    }
   ],
   "source": [
    "r = send_message(data, API_KEY, API_SECRET_KEY, QLT_URL)\n",
    "r"
   ]
  },
  {
   "cell_type": "markdown",
   "metadata": {},
   "source": [
    "Although this request failed (we still have dummy key values, remember?) the response is the same as our original example above. With valid key values the request will work. "
   ]
  },
  {
   "cell_type": "code",
   "execution_count": null,
   "metadata": {},
   "outputs": [],
   "source": []
  }
 ],
 "metadata": {
  "kernelspec": {
   "display_name": "Python 3",
   "language": "python",
   "name": "python3"
  },
  "language_info": {
   "codemirror_mode": {
    "name": "ipython",
    "version": 3
   },
   "file_extension": ".py",
   "mimetype": "text/x-python",
   "name": "python",
   "nbconvert_exporter": "python",
   "pygments_lexer": "ipython3",
   "version": "3.7.7"
  }
 },
 "nbformat": 4,
 "nbformat_minor": 4
}
